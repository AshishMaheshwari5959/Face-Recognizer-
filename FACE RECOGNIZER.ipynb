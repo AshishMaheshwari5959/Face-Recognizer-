{
 "cells": [
  {
   "cell_type": "code",
   "execution_count": 1,
   "metadata": {},
   "outputs": [],
   "source": [
    "import cv2\n",
    "import numpy as np\n",
    "from os import listdir\n",
    "from os.path import isfile, join"
   ]
  },
  {
   "cell_type": "code",
   "execution_count": 60,
   "metadata": {},
   "outputs": [],
   "source": [
    "##to scan photos\n",
    "\n",
    "cap = cv2.VideoCapture(0 , cv2.CAP_DSHOW)\n",
    "count = 0\n",
    "while True :\n",
    "    status , photo = cap.read()\n",
    "    face_model = cv2.CascadeClassifier('haarcascade_frontalface_default.xml')\n",
    "    face_cor = face_model.detectMultiScale(photo)\n",
    "    if len(face_cor) != 0:\n",
    "        count = count +1\n",
    "        x , y , h , w = face_cor[0,0] , face_cor[0,1] , face_cor[0,2] , face_cor[0,3]\n",
    "        crop_photo = photo[y:y+h , x:x+w]\n",
    "        crop_resize = cv2.resize(crop_photo,(224,224))\n",
    "        file_name_path = 'C://Users//m27sa//Desktop//MLOps//Deep Learning//Faces//validation//Shobha//image' + str(count) + '.jpg'\n",
    "        cv2.imwrite(file_name_path, crop_resize)\n",
    "        cv2.putText(crop_resize , str(count), (50, 50), cv2.FONT_HERSHEY_COMPLEX, 1, (0,255,0), 2)\n",
    "        cv2.imshow('Face Cropper' , crop_resize)\n",
    "    if cv2.waitKey(1) == 13 or count == 1000 :\n",
    "        break\n",
    "cv2.destroyAllWindows()\n",
    "cap.release()"
   ]
  },
  {
   "cell_type": "code",
   "execution_count": 61,
   "metadata": {},
   "outputs": [],
   "source": [
    "from keras.applications import VGG16\n",
    "img_rows = 224\n",
    "img_cols = 224\n",
    "model = VGG16(weights = 'imagenet', \n",
    "                 include_top = False, \n",
    "                 input_shape = (img_rows, img_cols, 3))"
   ]
  },
  {
   "cell_type": "code",
   "execution_count": 62,
   "metadata": {},
   "outputs": [
    {
     "name": "stdout",
     "output_type": "stream",
     "text": [
      "0 InputLayer False\n",
      "1 Conv2D True\n",
      "2 Conv2D True\n",
      "3 MaxPooling2D True\n",
      "4 Conv2D True\n",
      "5 Conv2D True\n",
      "6 MaxPooling2D True\n",
      "7 Conv2D True\n",
      "8 Conv2D True\n",
      "9 Conv2D True\n",
      "10 MaxPooling2D True\n",
      "11 Conv2D True\n",
      "12 Conv2D True\n",
      "13 Conv2D True\n",
      "14 MaxPooling2D True\n",
      "15 Conv2D True\n",
      "16 Conv2D True\n",
      "17 Conv2D True\n",
      "18 MaxPooling2D True\n"
     ]
    }
   ],
   "source": [
    "for (i,layer) in enumerate(model.layers):\n",
    "    print(str(i) + \" \"+ layer.__class__.__name__, layer.trainable)"
   ]
  },
  {
   "cell_type": "code",
   "execution_count": 63,
   "metadata": {},
   "outputs": [],
   "source": [
    "for layer in model.layers:\n",
    "    layer.trainable = False"
   ]
  },
  {
   "cell_type": "code",
   "execution_count": 64,
   "metadata": {},
   "outputs": [],
   "source": [
    "def addTopModel(bottom_model, num_classes, D=256):\n",
    "    top_model = bottom_model.output\n",
    "    top_model = Flatten(name = \"flatten\")(top_model)\n",
    "    top_model = Dense(D, activation = \"relu\")(top_model)\n",
    "    top_model = Dropout(0.3)(top_model)\n",
    "    top_model = Dense(num_classes, activation = \"softmax\")(top_model)\n",
    "    return top_model"
   ]
  },
  {
   "cell_type": "code",
   "execution_count": 65,
   "metadata": {},
   "outputs": [
    {
     "data": {
      "text/plain": [
       "<tf.Tensor 'input_4:0' shape=(None, 224, 224, 3) dtype=float32>"
      ]
     },
     "execution_count": 65,
     "metadata": {},
     "output_type": "execute_result"
    }
   ],
   "source": [
    "model.input"
   ]
  },
  {
   "cell_type": "code",
   "execution_count": 66,
   "metadata": {},
   "outputs": [
    {
     "data": {
      "text/plain": [
       "[<keras.engine.input_layer.InputLayer at 0x1b6c8596288>,\n",
       " <keras.layers.convolutional.Conv2D at 0x1b6c8596cc8>,\n",
       " <keras.layers.convolutional.Conv2D at 0x1b6c8596e48>,\n",
       " <keras.layers.pooling.MaxPooling2D at 0x1b6c8759908>,\n",
       " <keras.layers.convolutional.Conv2D at 0x1b6c8768808>,\n",
       " <keras.layers.convolutional.Conv2D at 0x1b6c8627548>,\n",
       " <keras.layers.pooling.MaxPooling2D at 0x1b6c7c69388>,\n",
       " <keras.layers.convolutional.Conv2D at 0x1b6c7c69488>,\n",
       " <keras.layers.convolutional.Conv2D at 0x1b6c88939c8>,\n",
       " <keras.layers.convolutional.Conv2D at 0x1b6c85eb748>,\n",
       " <keras.layers.pooling.MaxPooling2D at 0x1b6c85e6a08>,\n",
       " <keras.layers.convolutional.Conv2D at 0x1b6c7e38688>,\n",
       " <keras.layers.convolutional.Conv2D at 0x1b6c7e4df88>,\n",
       " <keras.layers.convolutional.Conv2D at 0x1b6c7e4fec8>,\n",
       " <keras.layers.pooling.MaxPooling2D at 0x1b6c7e3c588>,\n",
       " <keras.layers.convolutional.Conv2D at 0x1b6c84de208>,\n",
       " <keras.layers.convolutional.Conv2D at 0x1b6c84bec48>,\n",
       " <keras.layers.convolutional.Conv2D at 0x1b6c84cb948>,\n",
       " <keras.layers.pooling.MaxPooling2D at 0x1b6c84a5bc8>]"
      ]
     },
     "execution_count": 66,
     "metadata": {},
     "output_type": "execute_result"
    }
   ],
   "source": [
    "model.layers"
   ]
  },
  {
   "cell_type": "code",
   "execution_count": 67,
   "metadata": {},
   "outputs": [
    {
     "name": "stdout",
     "output_type": "stream",
     "text": [
      "Model: \"model_4\"\n",
      "_________________________________________________________________\n",
      "Layer (type)                 Output Shape              Param #   \n",
      "=================================================================\n",
      "input_4 (InputLayer)         (None, 224, 224, 3)       0         \n",
      "_________________________________________________________________\n",
      "block1_conv1 (Conv2D)        (None, 224, 224, 64)      1792      \n",
      "_________________________________________________________________\n",
      "block1_conv2 (Conv2D)        (None, 224, 224, 64)      36928     \n",
      "_________________________________________________________________\n",
      "block1_pool (MaxPooling2D)   (None, 112, 112, 64)      0         \n",
      "_________________________________________________________________\n",
      "block2_conv1 (Conv2D)        (None, 112, 112, 128)     73856     \n",
      "_________________________________________________________________\n",
      "block2_conv2 (Conv2D)        (None, 112, 112, 128)     147584    \n",
      "_________________________________________________________________\n",
      "block2_pool (MaxPooling2D)   (None, 56, 56, 128)       0         \n",
      "_________________________________________________________________\n",
      "block3_conv1 (Conv2D)        (None, 56, 56, 256)       295168    \n",
      "_________________________________________________________________\n",
      "block3_conv2 (Conv2D)        (None, 56, 56, 256)       590080    \n",
      "_________________________________________________________________\n",
      "block3_conv3 (Conv2D)        (None, 56, 56, 256)       590080    \n",
      "_________________________________________________________________\n",
      "block3_pool (MaxPooling2D)   (None, 28, 28, 256)       0         \n",
      "_________________________________________________________________\n",
      "block4_conv1 (Conv2D)        (None, 28, 28, 512)       1180160   \n",
      "_________________________________________________________________\n",
      "block4_conv2 (Conv2D)        (None, 28, 28, 512)       2359808   \n",
      "_________________________________________________________________\n",
      "block4_conv3 (Conv2D)        (None, 28, 28, 512)       2359808   \n",
      "_________________________________________________________________\n",
      "block4_pool (MaxPooling2D)   (None, 14, 14, 512)       0         \n",
      "_________________________________________________________________\n",
      "block5_conv1 (Conv2D)        (None, 14, 14, 512)       2359808   \n",
      "_________________________________________________________________\n",
      "block5_conv2 (Conv2D)        (None, 14, 14, 512)       2359808   \n",
      "_________________________________________________________________\n",
      "block5_conv3 (Conv2D)        (None, 14, 14, 512)       2359808   \n",
      "_________________________________________________________________\n",
      "block5_pool (MaxPooling2D)   (None, 7, 7, 512)         0         \n",
      "_________________________________________________________________\n",
      "flatten (Flatten)            (None, 25088)             0         \n",
      "_________________________________________________________________\n",
      "dense_7 (Dense)              (None, 256)               6422784   \n",
      "_________________________________________________________________\n",
      "dropout_4 (Dropout)          (None, 256)               0         \n",
      "_________________________________________________________________\n",
      "dense_8 (Dense)              (None, 4)                 1028      \n",
      "=================================================================\n",
      "Total params: 21,138,500\n",
      "Trainable params: 6,423,812\n",
      "Non-trainable params: 14,714,688\n",
      "_________________________________________________________________\n",
      "None\n"
     ]
    }
   ],
   "source": [
    "from keras.models import Sequential\n",
    "from keras.layers import Dense, Dropout, Activation, Flatten\n",
    "from keras.layers import Conv2D, MaxPooling2D, ZeroPadding2D\n",
    "from keras.layers.normalization import BatchNormalization\n",
    "from keras.models import Model\n",
    "\n",
    "num_classes = 4\n",
    "\n",
    "FC_Head = addTopModel(model, num_classes)\n",
    "\n",
    "modelnew = Model(inputs=model.input, outputs=FC_Head)\n",
    "\n",
    "print(modelnew.summary())"
   ]
  },
  {
   "cell_type": "code",
   "execution_count": 68,
   "metadata": {},
   "outputs": [
    {
     "name": "stdout",
     "output_type": "stream",
     "text": [
      "Found 802 images belonging to 4 classes.\n",
      "Found 303 images belonging to 4 classes.\n"
     ]
    }
   ],
   "source": [
    "from keras.preprocessing.image import ImageDataGenerator\n",
    "\n",
    "train_data_dir = 'Faces/train/'\n",
    "validation_data_dir = 'Faces/validation/'\n",
    "\n",
    "train_datagen = ImageDataGenerator(\n",
    "      rescale=1./255,\n",
    "      rotation_range=20,\n",
    "      width_shift_range=0.2,\n",
    "      height_shift_range=0.2,\n",
    "      horizontal_flip=True,\n",
    "      fill_mode='nearest')\n",
    " \n",
    "validation_datagen = ImageDataGenerator(rescale=1./255)\n",
    " \n",
    "# Change the batchsize according to your system RAM\n",
    "train_batchsize = 16\n",
    "val_batchsize = 10\n",
    " \n",
    "train_generator = train_datagen.flow_from_directory(\n",
    "        train_data_dir,\n",
    "        target_size=(img_rows, img_cols),\n",
    "        batch_size=1,\n",
    "        class_mode='categorical')\n",
    " \n",
    "validation_generator = validation_datagen.flow_from_directory(\n",
    "        validation_data_dir,\n",
    "        target_size=(img_rows, img_cols),\n",
    "        batch_size=1,\n",
    "        class_mode='categorical',\n",
    "        shuffle=False)"
   ]
  },
  {
   "cell_type": "code",
   "execution_count": 69,
   "metadata": {},
   "outputs": [
    {
     "name": "stdout",
     "output_type": "stream",
     "text": [
      "Epoch 1/4\n",
      "802/802 [==============================] - 967s 1s/step - loss: 1.7911 - accuracy: 0.7631 - val_loss: 4.1722e-05 - val_accuracy: 0.9835\n",
      "\n",
      "Epoch 00001: val_loss improved from inf to 0.00004, saving model to faces.h5\n",
      "Epoch 2/4\n",
      "802/802 [==============================] - 964s 1s/step - loss: 0.2865 - accuracy: 0.9377 - val_loss: 0.0000e+00 - val_accuracy: 0.9175\n",
      "\n",
      "Epoch 00002: val_loss improved from 0.00004 to 0.00000, saving model to faces.h5\n",
      "Epoch 3/4\n",
      "802/802 [==============================] - 964s 1s/step - loss: 0.2505 - accuracy: 0.9464 - val_loss: 0.0000e+00 - val_accuracy: 0.9901\n",
      "\n",
      "Epoch 00003: val_loss did not improve from 0.00000\n",
      "Epoch 4/4\n",
      "802/802 [==============================] - 962s 1s/step - loss: 0.2084 - accuracy: 0.9688 - val_loss: 0.0000e+00 - val_accuracy: 0.7855\n",
      "\n",
      "Epoch 00004: val_loss did not improve from 0.00000\n"
     ]
    }
   ],
   "source": [
    "from keras.optimizers import RMSprop\n",
    "from keras.callbacks import ModelCheckpoint, EarlyStopping\n",
    "                   \n",
    "checkpoint = ModelCheckpoint(\"faces.h5\",\n",
    "                             monitor=\"val_loss\",\n",
    "                             mode=\"min\",\n",
    "                             save_best_only = True,\n",
    "                             verbose=1)\n",
    "\n",
    "earlystop = EarlyStopping(monitor = 'val_loss', \n",
    "                          min_delta = 0, \n",
    "                          patience = 3,\n",
    "                          verbose = 1,\n",
    "                          restore_best_weights = True)\n",
    "\n",
    "# we put our call backs into a callback list\n",
    "callbacks = [earlystop, checkpoint]\n",
    "\n",
    "# Note we use a very small learning rate \n",
    "modelnew.compile(loss = 'categorical_crossentropy',\n",
    "              optimizer = RMSprop(lr = 0.001),\n",
    "              metrics = ['accuracy'])\n",
    "\n",
    "nb_train_samples = 1190\n",
    "nb_validation_samples = 170\n",
    "epochs = 3\n",
    "batch_size = 16\n",
    "\n",
    "history = modelnew.fit_generator(\n",
    "    train_generator,\n",
    "    epochs = epochs,\n",
    "    callbacks = callbacks,\n",
    "    validation_data = validation_generator)"
   ]
  },
  {
   "cell_type": "code",
   "execution_count": 70,
   "metadata": {},
   "outputs": [],
   "source": [
    "modelnew.save(\"faces.h5\")"
   ]
  },
  {
   "cell_type": "code",
   "execution_count": 1,
   "metadata": {},
   "outputs": [
    {
     "name": "stderr",
     "output_type": "stream",
     "text": [
      "Using TensorFlow backend.\n"
     ]
    }
   ],
   "source": [
    "from keras.models import load_model\n",
    "model = load_model('faces.h5')"
   ]
  },
  {
   "cell_type": "code",
   "execution_count": 27,
   "metadata": {},
   "outputs": [
    {
     "name": "stdout",
     "output_type": "stream",
     "text": [
      "[[0. 0. 0. 1.]]\n",
      "[[0. 0. 0. 1.]]\n",
      "[[0. 0. 0. 1.]]\n",
      "[[0. 0. 0. 1.]]\n",
      "[[0. 0. 0. 1.]]\n",
      "[[0. 0. 0. 1.]]\n",
      "[[1. 0. 0. 0.]]\n",
      "[[1. 0. 0. 0.]]\n",
      "[[1. 0. 0. 0.]]\n",
      "[[0. 0. 0. 1.]]\n",
      "[[0. 0. 0. 1.]]\n",
      "[[0. 0. 0. 1.]]\n",
      "[[0. 0. 0. 1.]]\n",
      "[[0. 0. 0. 1.]]\n",
      "[[0. 0. 0. 1.]]\n",
      "[[0. 0. 0. 1.]]\n",
      "[[0. 0. 0. 1.]]\n",
      "[[0. 0. 0. 1.]]\n",
      "[[0. 0. 0. 1.]]\n",
      "[[0. 0. 0. 1.]]\n",
      "[[1. 0. 0. 0.]]\n",
      "[[1. 0. 0. 0.]]\n",
      "[[1. 0. 0. 0.]]\n",
      "[[1. 0. 0. 0.]]\n",
      "[[0. 0. 0. 1.]]\n",
      "[[1. 0. 0. 0.]]\n",
      "[[1. 0. 0. 0.]]\n",
      "[[1. 0. 0. 0.]]\n",
      "[[1. 0. 0. 0.]]\n"
     ]
    }
   ],
   "source": [
    "import cv2\n",
    "import numpy as np\n",
    "cap = cv2.VideoCapture(0 , cv2.CAP_DSHOW)\n",
    "while True :\n",
    "    status , photo = cap.read()\n",
    "    face_model = cv2.CascadeClassifier('haarcascade_frontalface_default.xml')\n",
    "    face_cor = face_model.detectMultiScale(photo)\n",
    "    if len(face_cor) != 0:\n",
    "        x , y , h , w = face_cor[0]\n",
    "        cv2.rectangle(photo , (x,y) , (x+w,y+h) , (0,255,0) , 2 )\n",
    "        crop_photo = photo[y:y+h , x:x+w]\n",
    "        crop_resize = cv2.resize(crop_photo,(224,224))\n",
    "        face = np.expand_dims(crop_resize,axis=0)\n",
    "        prediction = model.predict(face)\n",
    "        print(prediction)\n",
    "        #cv2.putText(photo , str(prediction), (50, 50), cv2.FONT_HERSHEY_COMPLEX, 1, (0,255,0), 2)\n",
    "        \n",
    "        if prediction[0][0] == max(prediction[0]) :\n",
    "            cv2.putText(photo, \"Hey ASHISH\", (250, 450), cv2.FONT_HERSHEY_COMPLEX, 1, (0,255,0), 2)\n",
    "            #cv2.imshow('Face Recognition', photo )\n",
    "            \n",
    "        elif prediction[0][1] == max(prediction[0]) :\n",
    "            cv2.putText(photo, \"Hey POORVI\", (250, 450), cv2.FONT_HERSHEY_COMPLEX, 1, (0,255,0), 2)\n",
    "            #cv2.imshow('Face Recognition', photo )\n",
    "            \n",
    "        elif prediction[0][2] == max(prediction[0]) :\n",
    "            cv2.putText(photo, \"Hey PUSHPA\", (250, 450), cv2.FONT_HERSHEY_COMPLEX, 1, (0,255,0), 2)\n",
    "            #cv2.imshow('Face Recognition', photo )\n",
    "            \n",
    "        elif prediction[0][3] == max(prediction[0]) :\n",
    "            cv2.putText(photo, \"Hey SHOBHA\", (250, 450), cv2.FONT_HERSHEY_COMPLEX, 1, (0,255,0), 2)\n",
    "            #cv2.imshow('Face Recognition', photo )\n",
    "            \n",
    "    cv2.imshow('face' , photo)\n",
    "    if cv2.waitKey(1) == 13 :\n",
    "        break\n",
    "cap.release()\n",
    "cv2.destroyAllWindows()"
   ]
  },
  {
   "cell_type": "code",
   "execution_count": 11,
   "metadata": {},
   "outputs": [],
   "source": [
    "cap.release()"
   ]
  },
  {
   "cell_type": "code",
   "execution_count": 12,
   "metadata": {},
   "outputs": [
    {
     "ename": "NameError",
     "evalue": "name 'train_generator' is not defined",
     "output_type": "error",
     "traceback": [
      "\u001b[1;31m---------------------------------------------------------------------------\u001b[0m",
      "\u001b[1;31mNameError\u001b[0m                                 Traceback (most recent call last)",
      "\u001b[1;32m<ipython-input-12-8b783e645587>\u001b[0m in \u001b[0;36m<module>\u001b[1;34m\u001b[0m\n\u001b[1;32m----> 1\u001b[1;33m \u001b[0mtrain_generator\u001b[0m\u001b[1;33m.\u001b[0m\u001b[0mclass_indices\u001b[0m\u001b[1;33m\u001b[0m\u001b[1;33m\u001b[0m\u001b[0m\n\u001b[0m",
      "\u001b[1;31mNameError\u001b[0m: name 'train_generator' is not defined"
     ]
    }
   ],
   "source": [
    "train_generator.class_indices"
   ]
  },
  {
   "cell_type": "code",
   "execution_count": 13,
   "metadata": {},
   "outputs": [],
   "source": [
    "a = [[1,3,4,5]]\n"
   ]
  },
  {
   "cell_type": "code",
   "execution_count": 15,
   "metadata": {},
   "outputs": [
    {
     "data": {
      "text/plain": [
       "5"
      ]
     },
     "execution_count": 15,
     "metadata": {},
     "output_type": "execute_result"
    }
   ],
   "source": [
    "max(a[0])"
   ]
  },
  {
   "cell_type": "code",
   "execution_count": 20,
   "metadata": {},
   "outputs": [
    {
     "name": "stdout",
     "output_type": "stream",
     "text": [
      "ashish\n"
     ]
    }
   ],
   "source": [
    "if a[0][3] == max(a[0]):\n",
    "    print(\"ashish\")"
   ]
  },
  {
   "cell_type": "code",
   "execution_count": 21,
   "metadata": {},
   "outputs": [],
   "source": [
    "x,y,w,z = a[0]\n"
   ]
  },
  {
   "cell_type": "code",
   "execution_count": 22,
   "metadata": {},
   "outputs": [
    {
     "data": {
      "text/plain": [
       "1"
      ]
     },
     "execution_count": 22,
     "metadata": {},
     "output_type": "execute_result"
    }
   ],
   "source": [
    "x"
   ]
  },
  {
   "cell_type": "code",
   "execution_count": 23,
   "metadata": {},
   "outputs": [
    {
     "data": {
      "text/plain": [
       "3"
      ]
     },
     "execution_count": 23,
     "metadata": {},
     "output_type": "execute_result"
    }
   ],
   "source": [
    "y"
   ]
  },
  {
   "cell_type": "code",
   "execution_count": 24,
   "metadata": {},
   "outputs": [
    {
     "data": {
      "text/plain": [
       "4"
      ]
     },
     "execution_count": 24,
     "metadata": {},
     "output_type": "execute_result"
    }
   ],
   "source": [
    "w"
   ]
  },
  {
   "cell_type": "code",
   "execution_count": 25,
   "metadata": {},
   "outputs": [
    {
     "data": {
      "text/plain": [
       "5"
      ]
     },
     "execution_count": 25,
     "metadata": {},
     "output_type": "execute_result"
    }
   ],
   "source": [
    "z"
   ]
  },
  {
   "cell_type": "code",
   "execution_count": null,
   "metadata": {},
   "outputs": [],
   "source": []
  }
 ],
 "metadata": {
  "kernelspec": {
   "display_name": "Python 3",
   "language": "python",
   "name": "python3"
  },
  "language_info": {
   "codemirror_mode": {
    "name": "ipython",
    "version": 3
   },
   "file_extension": ".py",
   "mimetype": "text/x-python",
   "name": "python",
   "nbconvert_exporter": "python",
   "pygments_lexer": "ipython3",
   "version": "3.7.4"
  }
 },
 "nbformat": 4,
 "nbformat_minor": 2
}
